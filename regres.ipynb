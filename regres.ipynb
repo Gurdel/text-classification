{
 "cells": [
  {
   "cell_type": "markdown",
   "source": [
    "Linear Regression"
   ],
   "metadata": {}
  },
  {
   "cell_type": "code",
   "execution_count": 1,
   "source": [
    "import numpy as np\r\n",
    "from sklearn.linear_model import LinearRegression\r\n",
    "\r\n",
    "x = np.array([0, 0.5, 1, 1.5, 2, 2.5, 3, 3.5, 4, 4.5]).reshape(-1, 1)\r\n",
    "y = np.array([1.76, 0.65, 2.72, -0.62, 3.33, -1.91, 4.33, -3.5, 5.83, -3.99])"
   ],
   "outputs": [],
   "metadata": {}
  },
  {
   "cell_type": "code",
   "execution_count": 2,
   "source": [
    "model = LinearRegression().fit(x, y)\r\n",
    "res = model.score(x,y)\r\n",
    "res, model.coef_"
   ],
   "outputs": [
    {
     "output_type": "execute_result",
     "data": {
      "text/plain": [
       "(0.04162658246381501, array([-0.44824242]))"
      ]
     },
     "metadata": {},
     "execution_count": 2
    }
   ],
   "metadata": {}
  },
  {
   "cell_type": "code",
   "execution_count": 3,
   "source": [
    "y_pred = model.predict(x)\r\n",
    "import matplotlib.pyplot as plt\r\n",
    "plt.scatter(x, y, color='blue')\r\n",
    "plt.plot(x, y_pred, color='black')"
   ],
   "outputs": [
    {
     "output_type": "execute_result",
     "data": {
      "text/plain": [
       "[<matplotlib.lines.Line2D at 0x203d54aa310>]"
      ]
     },
     "metadata": {},
     "execution_count": 3
    },
    {
     "output_type": "display_data",
     "data": {
      "image/png": "[encoded data removed]",
      "text/plain": [
       "<Figure size 432x288 with 1 Axes>"
      ]
     },
     "metadata": {
      "needs_background": "light"
     }
    }
   ],
   "metadata": {}
  },
  {
   "cell_type": "code",
   "execution_count": 4,
   "source": [
    "y_pred"
   ],
   "outputs": [
    {
     "output_type": "execute_result",
     "data": {
      "text/plain": [
       "array([ 1.86854545,  1.64442424,  1.42030303,  1.19618182,  0.97206061,\n",
       "        0.74793939,  0.52381818,  0.29969697,  0.07557576, -0.14854545])"
      ]
     },
     "metadata": {},
     "execution_count": 4
    }
   ],
   "metadata": {}
  },
  {
   "cell_type": "code",
   "execution_count": 5,
   "source": [
    "model = LinearRegression(fit_intercept=False).fit(x, y)\r\n",
    "res = model.score(x,y)\r\n",
    "y_pred = model.predict(x)\r\n",
    "plt.scatter(x, y, color='blue')\r\n",
    "plt.plot(x, y_pred, color='black')"
   ],
   "outputs": [
    {
     "output_type": "execute_result",
     "data": {
      "text/plain": [
       "[<matplotlib.lines.Line2D at 0x203d55a2940>]"
      ]
     },
     "metadata": {},
     "execution_count": 5
    },
    {
     "output_type": "display_data",
     "data": {
      "image/png": "[encoded data removed]",
      "text/plain": [
       "<Figure size 432x288 with 1 Axes>"
      ]
     },
     "metadata": {
      "needs_background": "light"
     }
    }
   ],
   "metadata": {}
  },
  {
   "cell_type": "markdown",
   "source": [
    "Logistic Regression"
   ],
   "metadata": {}
  },
  {
   "cell_type": "code",
   "execution_count": 12,
   "source": [
    "import numpy as np\r\n",
    "import matplotlib.pyplot as plt\r\n",
    "from sklearn.linear_model import LogisticRegression\r\n",
    "\r\n",
    "a = [0, 0.5, 1, 1.5, 2, 2.5, 3, 3.5, 4, 4.5, 0, 1, 2, 3, 4]\r\n",
    "b = [1.76, 0.65, 2.72, -0.62, 3.33, -1.91, 4.33, -3.5, 5.83, -3.99, 0.37, 0.14, -1.7, -5.3, -11]\r\n",
    "X = np.array([[a[i], b[i]] for i in range(len(a))])\r\n",
    "Y = np.array([1, 0, 1, 0, 1, 0, 1, 0, 1, 0, 1, 1, 1, 1, 1])\r\n",
    "\r\n",
    "clf = LogisticRegression(solver='liblinear')\r\n",
    "clf.fit(X, Y)\r\n",
    "clf.intercept_, clf.coef_"
   ],
   "outputs": [
    {
     "output_type": "execute_result",
     "data": {
      "text/plain": [
       "(array([0.5190761]), array([[0.05008368, 0.11022111]]))"
      ]
     },
     "metadata": {},
     "execution_count": 12
    }
   ],
   "metadata": {}
  },
  {
   "cell_type": "code",
   "execution_count": 13,
   "source": [
    "b = clf.intercept_[0]\r\n",
    "w1, w2 = clf.coef_.T\r\n",
    "# Calculate the intercept and gradient of the decision boundary.\r\n",
    "c = -b/w2\r\n",
    "m = -w1/w2\r\n",
    "\r\n",
    "# Plot the data and the classification with the decision boundary.\r\n",
    "xmin, xmax = -0.5, 5\r\n",
    "ymin, ymax = -12, 6\r\n",
    "xd = np.array([xmin, xmax])\r\n",
    "yd = m*xd + c\r\n",
    "plt.plot(xd, yd, 'k', lw=1, ls='--')\r\n",
    "plt.fill_between(xd, yd, ymin, color='tab:blue', alpha=0.2)\r\n",
    "plt.fill_between(xd, yd, ymax, color='tab:orange', alpha=0.2)\r\n",
    "\r\n",
    "plt.scatter(*X[Y==0].T)\r\n",
    "plt.scatter(*X[Y==1].T)\r\n",
    "plt.xlim(xmin, xmax)\r\n",
    "plt.ylim(ymin, ymax)\r\n",
    "plt.show()"
   ],
   "outputs": [
    {
     "output_type": "display_data",
     "data": {
      "image/png": "[encoded data removed]",
      "text/plain": [
       "<Figure size 432x288 with 1 Axes>"
      ]
     },
     "metadata": {
      "needs_background": "light"
     }
    }
   ],
   "metadata": {}
  },
  {
   "cell_type": "code",
   "execution_count": 14,
   "source": [
    "clf.predict(X)"
   ],
   "outputs": [
    {
     "output_type": "execute_result",
     "data": {
      "text/plain": [
       "array([1, 1, 1, 1, 1, 1, 1, 1, 1, 1, 1, 1, 1, 1, 0])"
      ]
     },
     "metadata": {},
     "execution_count": 14
    }
   ],
   "metadata": {}
  },
  {
   "cell_type": "code",
   "execution_count": null,
   "source": [],
   "outputs": [],
   "metadata": {}
  }
 ],
 "metadata": {
  "orig_nbformat": 4,
  "language_info": {
   "name": "python",
   "version": "3.9.7",
   "mimetype": "text/x-python",
   "codemirror_mode": {
    "name": "ipython",
    "version": 3
   },
   "pygments_lexer": "ipython3",
   "nbconvert_exporter": "python",
   "file_extension": ".py"
  },
  "kernelspec": {
   "name": "python3",
   "display_name": "Python 3.9.7 64-bit (windows store)"
  },
  "interpreter": {
   "hash": "93c4fa3b6f7978ef329e53e6aeb9bd03d21dd38c59c09fde76c8bd6c9c2ad8ac"
  }
 },
 "nbformat": 4,
 "nbformat_minor": 2
}