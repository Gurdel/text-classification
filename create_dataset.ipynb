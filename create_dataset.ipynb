{
 "metadata": {
  "language_info": {
   "codemirror_mode": {
    "name": "ipython",
    "version": 3
   },
   "file_extension": ".py",
   "mimetype": "text/x-python",
   "name": "python",
   "nbconvert_exporter": "python",
   "pygments_lexer": "ipython3",
   "version": "3.8.3-final"
  },
  "orig_nbformat": 2,
  "kernelspec": {
   "name": "python3",
   "display_name": "Python 3"
  }
 },
 "nbformat": 4,
 "nbformat_minor": 2,
 "cells": [
  {
   "cell_type": "code",
   "execution_count": 2,
   "metadata": {},
   "outputs": [],
   "source": [
    "with open('input.txt') as sr:\n",
    "    inp = sr.read().strip()"
   ]
  },
  {
   "cell_type": "code",
   "execution_count": 4,
   "metadata": {
    "tags": []
   },
   "outputs": [],
   "source": [
    "import re\n",
    "with open('data.txt', 'w') as sw, open('data.csv', 'w') as sw2:\n",
    "    texts = inp.split('<TOPICS><D>')\n",
    "    for t in texts[1:]:\n",
    "        try:\n",
    "            topic = t.split('</D>')[0]\n",
    "            text = t.split('<BODY>')[1]\n",
    "            text = text.split('</BODY>')[0]\n",
    "            # Remove all the special characters\n",
    "            text = re.sub(r'\\W', ' ', text)\n",
    "            # remove all single characters\n",
    "            text = re.sub(r'\\s+[a-zA-Z]\\s+', ' ', text)\n",
    "            # Remove single characters from the start\n",
    "            text = re.sub(r'\\^[a-zA-Z]\\s+', ' ', text) \n",
    "            # Substituting multiple spaces with single space\n",
    "            text = re.sub(r'\\s+', ' ', text, flags=re.I)\n",
    "            # Removing prefixed 'b'\n",
    "            text = re.sub(r'^b\\s+', '', text)\n",
    "            # Converting to Lowercase\n",
    "            text = text.lower().strip()\n",
    "            sw.write(f'{topic}\\t{text}\\n')\n",
    "            sw2.write(f'{topic},{text}\\n')\n",
    "        except: pass"
   ]
  },
  {
   "cell_type": "code",
   "execution_count": null,
   "metadata": {},
   "outputs": [],
   "source": []
  }
 ]
}