{
 "metadata": {
  "language_info": {
   "codemirror_mode": {
    "name": "ipython",
    "version": 3
   },
   "file_extension": ".py",
   "mimetype": "text/x-python",
   "name": "python",
   "nbconvert_exporter": "python",
   "pygments_lexer": "ipython3",
   "version": "3.8.3-final"
  },
  "orig_nbformat": 2,
  "kernelspec": {
   "name": "python3",
   "display_name": "Python 3"
  }
 },
 "nbformat": 4,
 "nbformat_minor": 2,
 "cells": [
  {
   "source": [
    "with open('input.txt') as sr:\n",
    "    inp = sr.read().strip()"
   ],
   "cell_type": "code",
   "metadata": {},
   "execution_count": 11,
   "outputs": []
  },
  {
   "source": [
    "import re\n",
    "all_words = {}\n",
    "all_topics = set()\n",
    "with open('data.txt', 'w') as sw, open('data.csv', 'w') as sw2:\n",
    "    sw.write('topic\\ttext\\n')\n",
    "    sw2.write('topic,text\\n')\n",
    "    texts = inp.split('<TOPICS><D>')\n",
    "    for t in texts[1:]:\n",
    "        try:\n",
    "            topic = t.split('</D>')[0].replace('-', '')\n",
    "            text = t.split('<BODY>')[1]\n",
    "            text = text.split('</BODY>')[0]\n",
    "            text = re.sub(r'\\d+', 'int', text)#заміняємо числа на слово int\n",
    "            #Видаляємо (заміняємо на пробіл):\n",
    "            text = re.sub('&lt', ' ', text)#&lt в .sgm\n",
    "            text = re.sub('&#3;', ' ', text)#&#3; в .sgm\n",
    "            text = re.sub(r'\\W', ' ', text)#спец символи\n",
    "            text = re.sub(r'\\s+\\D\\s+', ' ', text)#одиничні літери\n",
    "            text = re.sub(r'\\s+\\D\\s+', ' ', text)#одиничні літери\n",
    "            text = re.sub(r'\\s+\\D\\s+', ' ', text)#одиничні літери\n",
    "            text = re.sub(r'\\^[a-zA-Z]\\s+', ' ', text)\n",
    "            text = re.sub(r'\\s+[a-zA-Z]\\$', ' ', text)\n",
    "            text = re.sub(r'\\s+', ' ', text, flags=re.I)#подвійні пробіли\n",
    "            text = text.lower().strip()#переводимо в нижній регістр\n",
    "            sw.write(f'{topic}\\t{text}\\n')\n",
    "            sw2.write(f'{topic},{text}\\n')\n",
    "\n",
    "            all_topics.add(topic)\n",
    "            for w in text.split():\n",
    "                if w not in all_words:\n",
    "                    all_words[w] = 0\n",
    "                all_words[w] += 1\n",
    "        except: pass"
   ],
   "cell_type": "code",
   "metadata": {
    "tags": []
   },
   "execution_count": 12,
   "outputs": []
  },
  {
   "cell_type": "code",
   "execution_count": 13,
   "metadata": {},
   "outputs": [
    {
     "output_type": "execute_result",
     "data": {
      "text/plain": [
       "82"
      ]
     },
     "metadata": {},
     "execution_count": 13
    }
   ],
   "source": [
    "len(all_topics)"
   ]
  },
  {
   "cell_type": "code",
   "execution_count": null,
   "metadata": {},
   "outputs": [],
   "source": []
  }
 ]
}